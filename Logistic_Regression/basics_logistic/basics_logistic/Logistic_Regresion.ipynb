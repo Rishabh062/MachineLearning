{
  "nbformat": 4,
  "nbformat_minor": 0,
  "metadata": {
    "colab": {
      "name": "Logistic_Regresion.ipynb",
      "provenance": [],
      "collapsed_sections": []
    },
    "kernelspec": {
      "name": "python3",
      "display_name": "Python 3"
    }
  },
  "cells": [
    {
      "cell_type": "markdown",
      "metadata": {
        "id": "FyQTm3_63QhY"
      },
      "source": [
        "# Logistic Regression\r\n",
        "\r\n",
        "This file will deals with basics of **Logistic Regression** and implemented in *Python*.\r\n",
        "\r\n",
        "->It is basically a supervised classification algorithm.\r\n",
        "\r\n",
        "->In classificatioon problems,the target variables(or output) **y** can take only discrete values for given set of features(or inputs),**X**.\r\n",
        "\r\n",
        "->Just like Linear regression assumes that the data follows a linear function, Logistic regression models the data using the sigmoid function.\r\n",
        "\r\n",
        "**g(Z)=1/(1+e^-z)**\r\n",
        "\r\n",
        "*The decision for the value of the threshold value is affected by the **Precision and recall** .*\r\n",
        "\r\n",
        "1)**Low Precision/High Recall**: In applications where we want to reduce the number of false negatives without necessarily reducing the number false positives.\r\n",
        "\r\n",
        "2)**High Precision/Low Recall**: In applications where we want to reduce the number of false positives without necessarily reducing the number false negatives.\r\n",
        "\r\n",
        "It is classify into 3 types:\r\n",
        "\r\n",
        "(a)**Binomial**:-target value can have only 2 values ie **\"0\"** , **\"1\"**.\r\n",
        "\r\n",
        "(b)**multinominal**:-target value can have 3 or more possible types(not ordered).\r\n",
        "\r\n",
        "(c)**ordinal**:- it deals with target variables with ordered categories.\r\n"
      ]
    },
    {
      "cell_type": "markdown",
      "metadata": {
        "id": "8XCcJOVuAjdj"
      },
      "source": [
        "# Binomial Logistic Regression "
      ]
    },
    {
      "cell_type": "markdown",
      "metadata": {
        "id": "TKu5Wb6QDBNv"
      },
      "source": [
        "**Project details**\r\n",
        "\r\n",
        "***The number of hours of study for getting passed(1) or failed(0)***"
      ]
    },
    {
      "cell_type": "code",
      "metadata": {
        "id": "bRo3TheaC_w_"
      },
      "source": [
        "#importing package\r\n",
        "import csv\r\n",
        "import numpy as np\r\n",
        "import matplotlib.pyplot as plt\r\n"
      ],
      "execution_count": 14,
      "outputs": []
    },
    {
      "cell_type": "code",
      "metadata": {
        "id": "IF8dxVmD3AaB"
      },
      "source": [
        "def loadCSV(study): \r\n",
        "    ''' \r\n",
        "    function to load dataset \r\n",
        "    '''\r\n",
        "    with open(study,\"r\") as csvfile: \r\n",
        "        lines = csv.reader(csvfile) \r\n",
        "        dataset = list(lines) \r\n",
        "        for i in range(len(dataset)): \r\n",
        "            dataset[i] = [float(x) for x in dataset[i]]      \r\n",
        "    return np.array(dataset) \r\n",
        "  \r\n",
        "  \r\n",
        "def normalize(X): \r\n",
        "    ''' \r\n",
        "    function to normalize feature matrix, X \r\n",
        "    '''\r\n",
        "    mins = np.min(X, axis = 0) \r\n",
        "    maxs = np.max(X, axis = 0) \r\n",
        "    rng = maxs - mins \r\n",
        "    norm_X = 1 - ((maxs - X)/rng) \r\n",
        "    return norm_X \r\n",
        "  \r\n",
        "  \r\n",
        "def logistic_func(beta, X): \r\n",
        "    ''' \r\n",
        "    logistic(sigmoid) function \r\n",
        "    '''\r\n",
        "    return 1.0/(1 + np.exp(-np.dot(X, beta.T))) \r\n",
        "  \r\n",
        "  \r\n",
        "def log_gradient(beta, X, y): \r\n",
        "    ''' \r\n",
        "    logistic gradient function \r\n",
        "    '''\r\n",
        "    first_calc = logistic_func(beta, X) - y.reshape(X.shape[0], -1) \r\n",
        "    final_calc = np.dot(first_calc.T, X) \r\n",
        "    return final_calc \r\n",
        "  \r\n",
        "  \r\n",
        "def cost_func(beta, X, y): \r\n",
        "    ''' \r\n",
        "    cost function, J \r\n",
        "    '''\r\n",
        "    log_func_v = logistic_func(beta, X) \r\n",
        "    y = np.squeeze(y) \r\n",
        "    step1 = y * np.log(log_func_v) \r\n",
        "    step2 = (1 - y) * np.log(1 - log_func_v) \r\n",
        "    final = -step1 - step2 \r\n",
        "    return np.mean(final) \r\n",
        "  \r\n",
        "  \r\n",
        "def grad_desc(X, y, beta, lr=.01, converge_change=.001): \r\n",
        "    ''' \r\n",
        "    gradient descent function \r\n",
        "    '''\r\n",
        "    cost = cost_func(beta, X, y) \r\n",
        "    change_cost = 1\r\n",
        "    num_iter = 1\r\n",
        "      \r\n",
        "    while(change_cost > converge_change): \r\n",
        "        old_cost = cost \r\n",
        "        beta = beta - (lr * log_gradient(beta, X, y)) \r\n",
        "        cost = cost_func(beta, X, y) \r\n",
        "        change_cost = old_cost - cost \r\n",
        "        num_iter += 1\r\n",
        "      \r\n",
        "    return beta, num_iter  \r\n",
        "  \r\n",
        "  \r\n",
        "def pred_values(beta, X): \r\n",
        "    ''' \r\n",
        "    function to predict labels \r\n",
        "    '''\r\n",
        "    pred_prob = logistic_func(beta, X) \r\n",
        "    pred_value = np.where(pred_prob >= .5, 1, 0) \r\n",
        "    return np.squeeze(pred_value) \r\n",
        "  \r\n",
        "  \r\n",
        "def plot_reg(X, y, beta): \r\n",
        "    ''' \r\n",
        "    function to plot decision boundary \r\n",
        "    '''\r\n",
        "    # labelled observations \r\n",
        "    x_0 = X[np.where(y == 0.0)] \r\n",
        "    x_1 = X[np.where(y == 1.0)] \r\n",
        "      \r\n",
        "    # plotting points with diff color for diff label \r\n",
        "    plt.scatter([x_0[:, 1]], [x_0[:, 2]], c='b', label='y = 0') \r\n",
        "    plt.scatter([x_1[:, 1]], [x_1[:, 2]], c='r', label='y = 1') \r\n",
        "      \r\n",
        "    # plotting decision boundary \r\n",
        "    x1 = np.arange(0, 1, 0.1) \r\n",
        "    x2 = -(beta[0,0] + beta[0,1]*x1)/beta[0,2] \r\n",
        "    plt.plot(x1, x2, c='k', label='reg line') \r\n",
        "  \r\n",
        "    plt.xlabel('x1') \r\n",
        "    plt.ylabel('x2') \r\n",
        "    plt.legend() \r\n",
        "    plt.show()"
      ],
      "execution_count": 20,
      "outputs": []
    },
    {
      "cell_type": "code",
      "metadata": {
        "id": "u6y3jAzcctcN",
        "colab": {
          "base_uri": "https://localhost:8080/",
          "height": 330
        },
        "outputId": "0069abda-9d21-4617-cadd-ce610a4f14f1"
      },
      "source": [
        "if __name__ == \"__main__\": \r\n",
        "    # load the dataset \r\n",
        "    dataset = loadCSV('study.csv') \r\n",
        "      \r\n",
        "    # normalizing feature matrix \r\n",
        "    X = normalize(dataset[:, :-1]) \r\n",
        "      \r\n",
        "    # stacking columns wth all ones in feature matrix \r\n",
        "    X = np.hstack((np.matrix(np.ones(X.shape[0])).T, X)) \r\n",
        "  \r\n",
        "    # response vector \r\n",
        "    y = dataset[:, -1] \r\n",
        "  \r\n",
        "    # initial beta values \r\n",
        "    beta = np.matrix(np.zeros(X.shape[1])) \r\n",
        "  \r\n",
        "    # beta values after running gradient descent \r\n",
        "    beta, num_iter = grad_desc(X, y, beta) \r\n",
        "  \r\n",
        "    # estimated beta values and number of iterations \r\n",
        "    print(\"Estimated regression coefficients:\", beta) \r\n",
        "    print(\"No. of iterations:\", num_iter) \r\n",
        "  \r\n",
        "    # predicted labels \r\n",
        "    y_pred = pred_values(beta, X) \r\n",
        "      \r\n",
        "    # number of correctly predicted labels \r\n",
        "    print(\"Correctly predicted labels:\", np.sum(y == y_pred)) \r\n",
        "      \r\n",
        "    # plotting regression line \r\n",
        "    plot_reg(X, y, beta)"
      ],
      "execution_count": 21,
      "outputs": [
        {
          "output_type": "stream",
          "text": [
            "Estimated regression coefficients: [[  1.70474504  15.04062212 -20.47216021]]\n",
            "No. of iterations: 2612\n",
            "Correctly predicted labels: 100\n"
          ],
          "name": "stdout"
        },
        {
          "output_type": "display_data",
          "data": {
            "image/png": "[encoded data removed]",
            "text/plain": [
              "<Figure size 432x288 with 1 Axes>"
            ]
          },
          "metadata": {
            "tags": [],
            "needs_background": "light"
          }
        }
      ]
    },
    {
      "cell_type": "code",
      "metadata": {
        "id": "5Pj_6NnQi7-w"
      },
      "source": [
        ""
      ],
      "execution_count": null,
      "outputs": []
    }
  ]
}