{
  "nbformat": 4,
  "nbformat_minor": 0,
  "metadata": {
    "colab": {
      "name": "linear_regression.ipynb",
      "provenance": [],
      "collapsed_sections": []
    },
    "kernelspec": {
      "name": "python3",
      "display_name": "Python 3"
    }
  },
  "cells": [
    {
      "cell_type": "markdown",
      "metadata": {
        "id": "6e21qUWww_bk"
      },
      "source": [
        "# Linear-Regression \r\n",
        "\r\n",
        "**simple Linear Regression**->\r\n",
        "*Simple linear regression is an approach for predicting a response using a single feature*\r\n",
        "\r\n",
        "**Our Task**->We need to find a line which fits best in our scatter plot.\r\n",
        "\r\n",
        "***Output line is Regression Line***\r\n",
        "\r\n",
        "Equation of linear regression line is:-\r\n",
        "\r\n",
        "*h(x_i) = B0 + B1.X* \r\n",
        "\r\n",
        "->here h(x_i) is  **predicted response value** for ith observation.\r\n",
        "\r\n",
        "-> B_0 and B_1 are regression coefficient and **y-intercept** and **slope** of regression line resp.\r\n",
        "\r\n"
      ]
    },
    {
      "cell_type": "markdown",
      "metadata": {
        "id": "GfidMz6U6J-m"
      },
      "source": [
        "We are going to use **Least Square technique**\r\n",
        "we have formula for it:-\r\n",
        "\r\n",
        "where e_i is *Residual error* we need to minimize it.\r\n",
        "\r\n",
        "square error or cost function as:-\r\n",
        "\r\n",
        "J(B_0,B_1) find B_0,B_1 for which cost function is **Minimum** .\r\n",
        "\r\n",
        "B1=SS_xy/SS_xx\r\n",
        "\r\n",
        "B0=y(mean)-B1*x(mean)\r\n",
        "\r\n",
        "\r\n"
      ]
    },
    {
      "cell_type": "code",
      "metadata": {
        "id": "E2VOh9XNwv_b"
      },
      "source": [
        "import numpy as np\r\n",
        "import matplotlib.pyplot as plt"
      ],
      "execution_count": null,
      "outputs": []
    },
    {
      "cell_type": "code",
      "metadata": {
        "id": "rls-kwEP9Jgg"
      },
      "source": [
        "def estimate_coef(x, y): \r\n",
        "    # number of observations/points \r\n",
        "    n = np.size(x) \r\n",
        "  \r\n",
        "    # mean of x and y vector \r\n",
        "    m_x, m_y = np.mean(x), np.mean(y) \r\n",
        "  \r\n",
        "    # calculating cross-deviation and deviation about x \r\n",
        "    SS_xy = np.sum(y*x) - n*m_y*m_x \r\n",
        "    SS_xx = np.sum(x*x) - n*m_x*m_x \r\n",
        "  \r\n",
        "    # calculating regression coefficients \r\n",
        "    b_1 = SS_xy / SS_xx \r\n",
        "    b_0 = m_y - b_1*m_x \r\n",
        "  \r\n",
        "    return(b_0, b_1) "
      ],
      "execution_count": null,
      "outputs": []
    },
    {
      "cell_type": "code",
      "metadata": {
        "id": "OKX7wxnjAk3l"
      },
      "source": [
        "def plot_regression_line(x, y, b): \r\n",
        "    # plotting the actual points as scatter plot \r\n",
        "    plt.scatter(x, y, color = \"m\", \r\n",
        "               marker = \"o\", s = 30) \r\n",
        "  \r\n",
        "    # predicted response vector \r\n",
        "    y_pred = b[0] + b[1]*x \r\n",
        "  \r\n",
        "    # plotting the regression line \r\n",
        "    plt.plot(x, y_pred, color = \"g\") \r\n",
        "  \r\n",
        "    # putting labels \r\n",
        "    plt.xlabel('x') \r\n",
        "    plt.ylabel('y') \r\n",
        "  \r\n",
        "    # function to show plot \r\n",
        "    plt.show()"
      ],
      "execution_count": null,
      "outputs": []
    },
    {
      "cell_type": "code",
      "metadata": {
        "colab": {
          "base_uri": "https://localhost:8080/",
          "height": 330
        },
        "id": "N3WXKnTNCgoT",
        "outputId": "23e7d981-7251-4349-8c9f-10d838c0720a"
      },
      "source": [
        "def main(): \r\n",
        "    # observations \r\n",
        "    x = np.array([0, 1, 2, 3, 4, 5, 6, 7, 8, 9]) \r\n",
        "    y = np.array([1, 3, 2, 5, 7, 8, 8, 9, 10, 12]) \r\n",
        "  \r\n",
        "    # estimating coefficients \r\n",
        "    b = estimate_coef(x, y) \r\n",
        "    print(\"Estimated coefficients:\\nb_0 = {}\\nb_1 = {}\".format(b[0], b[1])) \r\n",
        "  \r\n",
        "    # plotting regression line \r\n",
        "    plot_regression_line(x, y, b) \r\n",
        "  \r\n",
        "if __name__ == \"__main__\": \r\n",
        "    main() "
      ],
      "execution_count": null,
      "outputs": [
        {
          "output_type": "stream",
          "text": [
            "Estimated coefficients:\n",
            "b_0 = 1.2363636363636363\n",
            "b_1 = 1.1696969696969697\n"
          ],
          "name": "stdout"
        },
        {
          "output_type": "display_data",
          "data": {
            "image/png": "[encoded data removed]",
            "text/plain": [
              "<Figure size 432x288 with 1 Axes>"
            ]
          },
          "metadata": {
            "tags": [],
            "needs_background": "light"
          }
        }
      ]
    },
    {
      "cell_type": "markdown",
      "metadata": {
        "id": "1Db-UTX-GBP5"
      },
      "source": [
        "# Multiple linear regression\r\n",
        "\r\n",
        "Multiple linear regression attempts to model the relationship between **two or more features** and a response by fitting a linear equation to observed data.\r\n",
        "\r\n",
        "Here X(**Feature matrix**) and Y(**Response vector**)\r\n",
        "\r\n",
        "The regression line for p features is represented as:\r\n",
        "h(x_i) or y_i = B_0+B_1* X_i1 *+.....+B_p * x_ip\r\n",
        "\r\n",
        "where h(x_i) is **predicted response value** and B_0,B_1... are **regression coefficients**.\r\n",
        "\r\n",
        "Finally--> y_i = h(x_i)+ e_i\r\n",
        "\r\n",
        "where e_i is residual errors.\r\n",
        "\r\n",
        "\r\n"
      ]
    },
    {
      "cell_type": "code",
      "metadata": {
        "id": "8ZPRZ0mXD0g0"
      },
      "source": [
        "import matplotlib.pyplot as plt\r\n",
        "import numpy as np\r\n",
        "from sklearn import datasets,linear_model,metrics"
      ],
      "execution_count": null,
      "outputs": []
    },
    {
      "cell_type": "code",
      "metadata": {
        "colab": {
          "base_uri": "https://localhost:8080/",
          "height": 405
        },
        "id": "PYZ7OELFEIof",
        "outputId": "e4bf64f4-2355-4a51-956d-d902e7b747ad"
      },
      "source": [
        "# load the boston dataset \r\n",
        "boston = datasets.load_boston(return_X_y=False)\r\n",
        "\r\n",
        "X = boston.data \r\n",
        "y = boston.target \r\n",
        "  \r\n",
        "# splitting X and y into training and testing sets \r\n",
        "from sklearn.model_selection import train_test_split \r\n",
        "X_train, X_test, y_train, y_test = train_test_split(X, y, test_size=0.4, \r\n",
        "                                                    random_state=1) \r\n",
        "  \r\n",
        "# create linear regression object \r\n",
        "reg = linear_model.LinearRegression() \r\n",
        "  \r\n",
        "# train the model using the training sets \r\n",
        "reg.fit(X_train, y_train) \r\n",
        "  \r\n",
        "# regression coefficients \r\n",
        "print('Coefficients: \\n', reg.coef_) \r\n",
        "  \r\n",
        "# variance score: 1 means perfect prediction \r\n",
        "print('Variance score: {}'.format(reg.score(X_test, y_test))) \r\n",
        "\r\n",
        "# plot the residual error\r\n",
        "plt.style.use('fivethirtyeight')\r\n",
        "\r\n",
        "# plotting residual error in training data\r\n",
        "plt.scatter(reg.predict(X_train), reg.predict(X_train) - y_train, \r\n",
        "            color = \"green\", s = 10, label = 'Train data') \r\n",
        "# plotting residual errors in test data \r\n",
        "plt.scatter(reg.predict(X_test), reg.predict(X_test) - y_test, \r\n",
        "            color = \"blue\", s = 10, label = 'Test data')\r\n",
        "\r\n",
        "# plotting line for zero residual error \r\n",
        "plt.hlines(y = 0, xmin = 0, xmax = 50, linewidth = 2) \r\n",
        "  \r\n",
        "# plotting legend \r\n",
        "plt.legend(loc = 'upper right') \r\n",
        "  \r\n",
        "# plot title \r\n",
        "plt.title(\"Residual errors\") \r\n",
        "  \r\n",
        "# function to show plot \r\n",
        "plt.show()\r\n",
        "\r\n",
        " "
      ],
      "execution_count": null,
      "outputs": [
        {
          "output_type": "stream",
          "text": [
            "Coefficients: \n",
            " [-8.95714048e-02  6.73132853e-02  5.04649248e-02  2.18579583e+00\n",
            " -1.72053975e+01  3.63606995e+00  2.05579939e-03 -1.36602886e+00\n",
            "  2.89576718e-01 -1.22700072e-02 -8.34881849e-01  9.40360790e-03\n",
            " -5.04008320e-01]\n",
            "Variance score: 0.7209056672661777\n"
          ],
          "name": "stdout"
        },
        {
          "output_type": "display_data",
          "data": {
            "image/png": "[encoded data removed]",
            "text/plain": [
              "<Figure size 432x288 with 1 Axes>"
            ]
          },
          "metadata": {
            "tags": []
          }
        }
      ]
    },
    {
      "cell_type": "code",
      "metadata": {
        "id": "yZkBIF7ZPmXG"
      },
      "source": [
        ""
      ],
      "execution_count": null,
      "outputs": []
    }
  ]
}